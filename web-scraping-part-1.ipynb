{
 "cells": [
  {
   "cell_type": "markdown",
   "metadata": {},
   "source": [
    "# imports"
   ]
  },
  {
   "cell_type": "code",
   "execution_count": 1,
   "metadata": {},
   "outputs": [],
   "source": [
    "import requests \n",
    "\n",
    "from bs4 import BeautifulSoup, SoupStrainer\n",
    "\n",
    "import pandas as pd\n",
    "\n",
    "from time import sleep\n",
    "\n",
    "import fuckit"
   ]
  },
  {
   "cell_type": "markdown",
   "metadata": {},
   "source": [
    "## build Query"
   ]
  },
  {
   "cell_type": "code",
   "execution_count": 2,
   "metadata": {},
   "outputs": [],
   "source": [
    "def build_url(query, page=1):\n",
    "    return \"https://www.avito.ma/fr/maroc/\"+query+\"?o=\"+str(page)"
   ]
  },
  {
   "cell_type": "markdown",
   "metadata": {},
   "source": [
    "## get HTML"
   ]
  },
  {
   "cell_type": "code",
   "execution_count": 3,
   "metadata": {},
   "outputs": [],
   "source": [
    "def get_html(url):\n",
    "    r    = requests.get(url)\n",
    "    soup =  BeautifulSoup(r.content, 'lxml')\n",
    "    [s.extract() for s in soup(['iframe', 'script', 'style'])]\n",
    "    return soup"
   ]
  },
  {
   "cell_type": "markdown",
   "metadata": {},
   "source": [
    "## Get Items"
   ]
  },
  {
   "cell_type": "code",
   "execution_count": 4,
   "metadata": {},
   "outputs": [],
   "source": [
    "# get posts on one page\n",
    "def get_page_posts(sp):\n",
    "    return sp.find(class_=\"listing\").find_all(class_=\"item\")"
   ]
  },
  {
   "cell_type": "markdown",
   "metadata": {},
   "source": [
    "## Parse one post"
   ]
  },
  {
   "cell_type": "code",
   "execution_count": 21,
   "metadata": {},
   "outputs": [],
   "source": [
    "# get one post informations\n",
    "@fuckit\n",
    "def get_post(sp):\n",
    "    d = {}\n",
    "    d['title'] = sp.find('h2').get_text().strip()\n",
    "    d['price'] = sp.find(class_='item-price').get_text().strip()\n",
    "    \n",
    "    extra_info = sp.find(class_='item-info-extra')\n",
    "    \n",
    "    d['date'] = extra_info.find(class_='age-text').get_text().strip()\n",
    "    d['location'] = extra_info.find(class_='re-text').get_text().strip()\n",
    "    d['category'] = extra_info.find(class_='cg-text').get_text().strip()\n",
    "\n",
    "    return d"
   ]
  },
  {
   "cell_type": "markdown",
   "metadata": {},
   "source": [
    "## Run the crawler"
   ]
  },
  {
   "cell_type": "code",
   "execution_count": 22,
   "metadata": {},
   "outputs": [],
   "source": [
    "url = build_url('voiture', 1)\n",
    "index = get_html(url)\n",
    "posts = get_page_posts(index)\n",
    "parsed_posts = [ get_post(post) for post in posts ]"
   ]
  },
  {
   "cell_type": "code",
   "execution_count": null,
   "metadata": {},
   "outputs": [],
   "source": []
  },
  {
   "cell_type": "markdown",
   "metadata": {},
   "source": [
    "## Save Results"
   ]
  },
  {
   "cell_type": "code",
   "execution_count": 23,
   "metadata": {},
   "outputs": [
    {
     "data": {
      "text/html": [
       "<div>\n",
       "<style scoped>\n",
       "    .dataframe tbody tr th:only-of-type {\n",
       "        vertical-align: middle;\n",
       "    }\n",
       "\n",
       "    .dataframe tbody tr th {\n",
       "        vertical-align: top;\n",
       "    }\n",
       "\n",
       "    .dataframe thead th {\n",
       "        text-align: right;\n",
       "    }\n",
       "</style>\n",
       "<table border=\"1\" class=\"dataframe\">\n",
       "  <thead>\n",
       "    <tr style=\"text-align: right;\">\n",
       "      <th></th>\n",
       "      <th>category</th>\n",
       "      <th>date</th>\n",
       "      <th>location</th>\n",
       "      <th>price</th>\n",
       "      <th>title</th>\n",
       "    </tr>\n",
       "  </thead>\n",
       "  <tbody>\n",
       "    <tr>\n",
       "      <th>0</th>\n",
       "      <td>Voitures</td>\n",
       "      <td>Aujourd'hui\\n23:50</td>\n",
       "      <td>Marrakech</td>\n",
       "      <td>50 000\\nDH</td>\n",
       "      <td>Suzuki Celerio -2012</td>\n",
       "    </tr>\n",
       "    <tr>\n",
       "      <th>1</th>\n",
       "      <td>Voitures</td>\n",
       "      <td>Aujourd'hui\\n23:49</td>\n",
       "      <td>Casablanca</td>\n",
       "      <td>63 000\\nDH</td>\n",
       "      <td>Peugeot 307 Cc cabriolet -2004</td>\n",
       "    </tr>\n",
       "    <tr>\n",
       "      <th>2</th>\n",
       "      <td>Voitures</td>\n",
       "      <td>Aujourd'hui\\n23:47</td>\n",
       "      <td>Casablanca</td>\n",
       "      <td></td>\n",
       "      <td>BMW SÉRIE 4 GRAND COUPÉ -2016</td>\n",
       "    </tr>\n",
       "    <tr>\n",
       "      <th>3</th>\n",
       "      <td>Voitures</td>\n",
       "      <td>Aujourd'hui\\n23:46</td>\n",
       "      <td>Berrechid</td>\n",
       "      <td>68 000\\nDH</td>\n",
       "      <td>Golf 4 diesel -2002</td>\n",
       "    </tr>\n",
       "    <tr>\n",
       "      <th>4</th>\n",
       "      <td>Voitures</td>\n",
       "      <td>Aujourd'hui\\n23:45</td>\n",
       "      <td>Casablanca</td>\n",
       "      <td>95 000\\nDH</td>\n",
       "      <td>PEUGEOT 301 -2016</td>\n",
       "    </tr>\n",
       "  </tbody>\n",
       "</table>\n",
       "</div>"
      ],
      "text/plain": [
       "   category                date    location       price  \\\n",
       "0  Voitures  Aujourd'hui\\n23:50   Marrakech  50 000\\nDH   \n",
       "1  Voitures  Aujourd'hui\\n23:49  Casablanca  63 000\\nDH   \n",
       "2  Voitures  Aujourd'hui\\n23:47  Casablanca               \n",
       "3  Voitures  Aujourd'hui\\n23:46   Berrechid  68 000\\nDH   \n",
       "4  Voitures  Aujourd'hui\\n23:45  Casablanca  95 000\\nDH   \n",
       "\n",
       "                            title  \n",
       "0            Suzuki Celerio -2012  \n",
       "1  Peugeot 307 Cc cabriolet -2004  \n",
       "2   BMW SÉRIE 4 GRAND COUPÉ -2016  \n",
       "3             Golf 4 diesel -2002  \n",
       "4               PEUGEOT 301 -2016  "
      ]
     },
     "execution_count": 23,
     "metadata": {},
     "output_type": "execute_result"
    }
   ],
   "source": [
    "df = pd.DataFrame(parsed_posts)\n",
    "df.head()"
   ]
  },
  {
   "cell_type": "code",
   "execution_count": null,
   "metadata": {},
   "outputs": [],
   "source": [
    "df.to_excel('posts.xlsx')"
   ]
  }
 ],
 "metadata": {
  "kernelspec": {
   "display_name": "Python 3",
   "language": "python",
   "name": "python3"
  },
  "language_info": {
   "codemirror_mode": {
    "name": "ipython",
    "version": 3
   },
   "file_extension": ".py",
   "mimetype": "text/x-python",
   "name": "python",
   "nbconvert_exporter": "python",
   "pygments_lexer": "ipython3",
   "version": "3.7.3"
  }
 },
 "nbformat": 4,
 "nbformat_minor": 2
}
